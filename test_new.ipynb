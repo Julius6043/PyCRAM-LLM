{
 "cells": [
  {
   "cell_type": "markdown",
   "id": "89dbd61e",
   "metadata": {},
   "source": [
    "## Result Test 2"
   ]
  },
  {
   "cell_type": "code",
   "execution_count": 2,
   "id": "initial_id",
   "metadata": {
    "ExecuteTime": {
     "end_time": "2024-09-19T18:22:40.796809Z",
     "start_time": "2024-09-19T18:22:32.468767Z"
    },
    "collapsed": true
   },
   "outputs": [
    {
     "name": "stderr",
     "output_type": "stream",
     "text": [
      "Scalar element defined multiple times: limit\n",
      "Scalar element defined multiple times: limit\n"
     ]
    }
   ],
   "source": [
    "from pycram.worlds.bullet_world import BulletWorld\n",
    "from pycram.world_concepts.world_object import Object\n",
    "from pycram.process_module import simulated_robot\n",
    "from pycram.designators.motion_designator import *\n",
    "from pycram.designators.location_designator import *\n",
    "from pycram.designators.action_designator import *\n",
    "from pycram.datastructures.enums import ObjectType, Arms, WorldMode\n",
    "from pycram.datastructures.pose import Pose\n",
    "# Initialize the BulletWorld\n",
    "world = BulletWorld(WorldMode.GUI)\n",
    "\n",
    "# Define the kitchen and robot objects\n",
    "kitchen = Object('kitchen', ObjectType.ENVIRONMENT, 'kitchen.urdf')\n",
    "robot = Object('pr2', ObjectType.ROBOT, 'pr2.urdf')\n",
    "\n",
    "# Define the target position\n",
    "target_position = Pose([0, 1, 1], [0, 0, 0, 1])\n",
    "\n",
    "# Define the robot designator\n",
    "robot_desig = ObjectDesignatorDescription(names=['pr2']).resolve()\n",
    "\n",
    "# Simulate the robot actions\n",
    "with simulated_robot:\n",
    "    ParkArmsAction([Arms.BOTH]).resolve().perform()\n",
    "    MoveTorsoAction([0.25]).resolve().perform()\n",
    "\n",
    "    # Create and perform the navigation action\n",
    "    navigate_action = NavigateAction(target_locations=[target_position])\n",
    "    navigate_designator = navigate_action.resolve()\n",
    "    navigate_designator.perform()\n",
    "\n",
    "# Close the BulletWorld\n"
   ]
  },
  {
   "cell_type": "markdown",
   "id": "a7c4e98b",
   "metadata": {},
   "source": [
    "## One-Shot-gpt-4o"
   ]
  },
  {
   "cell_type": "code",
   "execution_count": null,
   "id": "f523d443",
   "metadata": {},
   "outputs": [],
   "source": [
    "from pycram.worlds.bullet_world import BulletWorld\n",
    "from pycram.world_concepts.world_object import Object\n",
    "from pycram.process_module import simulated_robot\n",
    "from pycram.designators.motion_designator import *\n",
    "from pycram.designators.location_designator import *\n",
    "from pycram.designators.action_designator import *\n",
    "from pycram.designators.object_designator import *\n",
    "from pycram.datastructures.enums import ObjectType, Arms, Grasp, WorldMode\n",
    "\n",
    "world = BulletWorld(WorldMode.GUI)\n",
    "kitchen = Object('kitchen', ObjectType.ENVIRONMENT, 'kitchen.urdf')\n",
    "robot = Object('pr2', ObjectType.ROBOT, 'pr2.urdf')\n",
    "bowl = Object('bowl', ObjectType.BOWL, 'bowl.stl', pose=Pose([1.4, 1, 0.89]), color=[1, 1, 0, 1])\n",
    "\n",
    "bowl_desig = ObjectDesignatorDescription(names=['bowl'])\n",
    "robot_desig = ObjectDesignatorDescription(names=['pr2']).resolve()\n",
    "\n",
    "with simulated_robot:\n",
    "    ParkArmsAction([Arms.BOTH]).resolve().perform()\n",
    "\n",
    "    MoveTorsoAction([0.3]).resolve().perform()\n",
    "\n",
    "    pickup_pose = CostmapLocation(target=bowl_desig.resolve(), reachable_for=robot_desig).resolve()\n",
    "    pickup_arm = pickup_pose.reachable_arms[0]\n",
    "\n",
    "    NavigateAction(target_locations=[pickup_pose.pose]).resolve().perform()\n",
    "\n",
    "    PickUpAction(object_designator_description=bowl_desig, arms=[pickup_arm], grasps=[Grasp.FRONT]).resolve().perform()\n",
    "\n",
    "    ParkArmsAction([Arms.BOTH]).resolve().perform()\n",
    "\n",
    "world.exit()"
   ]
  },
  {
   "cell_type": "markdown",
   "id": "17db653e",
   "metadata": {},
   "source": [
    "One-Shot-o1-preview"
   ]
  },
  {
   "cell_type": "code",
   "execution_count": null,
   "id": "6f133b4d",
   "metadata": {},
   "outputs": [],
   "source": ""
  },
  {
   "metadata": {},
   "cell_type": "markdown",
   "source": "",
   "id": "4d4172ce2e250849"
  },
  {
   "metadata": {},
   "cell_type": "markdown",
   "source": "Test 1",
   "id": "812c63d2144c1c33"
  },
  {
   "metadata": {
    "ExecuteTime": {
     "end_time": "2024-09-25T14:56:38.985118Z",
     "start_time": "2024-09-25T14:56:29.684217Z"
    }
   },
   "cell_type": "code",
   "source": [
    "from pycram.worlds.bullet_world import BulletWorld\n",
    "from pycram.world_concepts.world_object import Object\n",
    "from pycram.process_module import simulated_robot\n",
    "from pycram.designators.motion_designator import *\n",
    "from pycram.designators.location_designator import *\n",
    "from pycram.designators.action_designator import *\n",
    "from pycram.designators.object_designator import *\n",
    "from pycram.datastructures.enums import ObjectType, Arms, Grasp, WorldMode\n",
    "from pycram.datastructures.pose import Pose\n",
    "\n",
    "# Initialize the BulletWorld\n",
    "world = BulletWorld(WorldMode.GUI)\n",
    "\n",
    "# Define the objects in the world\n",
    "kitchen = Object(\"kitchen\", ObjectType.ENVIRONMENT, \"kitchen.urdf\")\n",
    "robot = Object(\"pr2\", ObjectType.ROBOT, \"pr2.urdf\")\n",
    "cereal = Object(\"cereal\", ObjectType.BREAKFAST_CEREAL, \"breakfast_cereal.stl\", pose=Pose([1.4, 1, 0.95]))\n",
    "\n",
    "# Create object designators\n",
    "cereal_desig = ObjectDesignatorDescription(names=[\"cereal\"])\n",
    "kitchen_desig = ObjectDesignatorDescription(names=[\"kitchen\"])\n",
    "robot_desig = ObjectDesignatorDescription(names=[\"pr2\"]).resolve()\n",
    "\n",
    "# Simulate robot actions\n",
    "with simulated_robot:\n",
    "    ParkArmsAction([Arms.BOTH]).resolve().perform()\n",
    "    MoveTorsoAction([0.25]).resolve().perform()\n",
    "\n",
    "    # Find a reachable location near the cereal\n",
    "    pickup_pose = CostmapLocation(target=cereal_desig.resolve(), reachable_for=robot_desig).resolve()\n",
    "    pickup_arm = pickup_pose.reachable_arms[0]\n",
    "\n",
    "    # Navigate to the cereal box\n",
    "    NavigateAction(target_locations=[pickup_pose.pose]).resolve().perform()\n",
    "\n",
    "    # Pick up the cereal box\n",
    "    PickUpAction(object_designator_description=cereal_desig, arms=[pickup_arm], grasps=[Grasp.FRONT]).resolve().perform()\n",
    "\n",
    "    # Park arms after picking up\n",
    "    ParkArmsAction([Arms.BOTH]).resolve().perform()\n",
    "\n",
    "    # Find a location on the kitchen island surface\n",
    "    place_island = SemanticCostmapLocation(\"kitchen_island_surface\", kitchen_desig.resolve(), cereal_desig.resolve()).resolve()\n",
    "\n",
    "    # Find a reachable stand location for placing\n",
    "    place_stand = CostmapLocation(place_island.pose, reachable_for=robot_desig, reachable_arm=pickup_arm).resolve()\n",
    "\n",
    "    # Navigate to the kitchen island\n",
    "    NavigateAction(target_locations=[place_stand.pose]).resolve().perform()\n",
    "\n",
    "    # Place the cereal box on the kitchen island\n",
    "    PlaceAction(cereal_desig, target_locations=[place_island.pose], arms=[pickup_arm]).resolve().perform()\n",
    "\n",
    "    # Park arms after placing\n",
    "    ParkArmsAction([Arms.BOTH]).resolve().perform()\n",
    "\n",
    "# Close the BulletWorld\n",
    "#world.exit()"
   ],
   "id": "d00ae0dea608b921",
   "outputs": [
    {
     "name": "stderr",
     "output_type": "stream",
     "text": [
      "Scalar element defined multiple times: limit\n",
      "Unknown tag \"rgba_color\" in /robot[@name='cereal_object']/link[@name='cereal_main']/visual[1]/material[@name='white']\n",
      "Scalar element defined multiple times: limit\n",
      "Unknown tag \"rgba_color\" in /robot[@name='cereal_object']/link[@name='cereal_main']/visual[1]/material[@name='white']\n"
     ]
    }
   ],
   "execution_count": 2
  },
  {
   "metadata": {},
   "cell_type": "code",
   "outputs": [],
   "execution_count": null,
   "source": "",
   "id": "773a54ab84d6e0c"
  }
 ],
 "metadata": {
  "kernelspec": {
   "display_name": "Python 3",
   "language": "python",
   "name": "python3"
  },
  "language_info": {
   "codemirror_mode": {
    "name": "ipython",
    "version": 2
   },
   "file_extension": ".py",
   "mimetype": "text/x-python",
   "name": "python",
   "nbconvert_exporter": "python",
   "pygments_lexer": "ipython2",
   "version": "2.7.6"
  }
 },
 "nbformat": 4,
 "nbformat_minor": 5
}
