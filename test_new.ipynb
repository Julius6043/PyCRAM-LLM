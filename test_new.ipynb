{
 "cells": [
  {
   "cell_type": "code",
   "id": "initial_id",
   "metadata": {
    "collapsed": true,
    "ExecuteTime": {
     "end_time": "2024-09-19T18:22:40.796809Z",
     "start_time": "2024-09-19T18:22:32.468767Z"
    }
   },
   "source": [
    "from pycram.worlds.bullet_world import BulletWorld\n",
    "from pycram.world_concepts.world_object import Object\n",
    "from pycram.process_module import simulated_robot\n",
    "from pycram.designators.motion_designator import *\n",
    "from pycram.designators.location_designator import *\n",
    "from pycram.designators.action_designator import *\n",
    "from pycram.datastructures.enums import ObjectType, Arms, WorldMode\n",
    "from pycram.datastructures.pose import Pose\n",
    "# Initialize the BulletWorld\n",
    "world = BulletWorld(WorldMode.GUI)\n",
    "\n",
    "# Define the kitchen and robot objects\n",
    "kitchen = Object('kitchen', ObjectType.ENVIRONMENT, 'kitchen.urdf')\n",
    "robot = Object('pr2', ObjectType.ROBOT, 'pr2.urdf')\n",
    "\n",
    "# Define the target position\n",
    "target_position = Pose([0, 1, 1], [0, 0, 0, 1])\n",
    "\n",
    "# Define the robot designator\n",
    "robot_desig = ObjectDesignatorDescription(names=['pr2']).resolve()\n",
    "\n",
    "# Simulate the robot actions\n",
    "with simulated_robot:\n",
    "    ParkArmsAction([Arms.BOTH]).resolve().perform()\n",
    "    MoveTorsoAction([0.25]).resolve().perform()\n",
    "\n",
    "    # Create and perform the navigation action\n",
    "    navigate_action = NavigateAction(target_locations=[target_position])\n",
    "    navigate_designator = navigate_action.resolve()\n",
    "    navigate_designator.perform()\n",
    "\n",
    "# Close the BulletWorld\n"
   ],
   "outputs": [
    {
     "name": "stderr",
     "output_type": "stream",
     "text": [
      "Scalar element defined multiple times: limit\n",
      "Scalar element defined multiple times: limit\n"
     ]
    }
   ],
   "execution_count": 2
  }
 ],
 "metadata": {
  "kernelspec": {
   "display_name": "Python 3",
   "language": "python",
   "name": "python3"
  },
  "language_info": {
   "codemirror_mode": {
    "name": "ipython",
    "version": 2
   },
   "file_extension": ".py",
   "mimetype": "text/x-python",
   "name": "python",
   "nbconvert_exporter": "python",
   "pygments_lexer": "ipython2",
   "version": "2.7.6"
  }
 },
 "nbformat": 4,
 "nbformat_minor": 5
}
